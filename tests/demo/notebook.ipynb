{
 "cells": [
  {
   "cell_type": "markdown",
   "id": "55864a99",
   "metadata": {},
   "source": [
    "# Jupyter Notebook\n"
   ]
  },
  {
   "cell_type": "markdown",
   "id": "d022dfa2",
   "metadata": {},
   "source": [
    "## Pandas\n"
   ]
  },
  {
   "cell_type": "code",
   "execution_count": 1,
   "id": "881d4657",
   "metadata": {},
   "outputs": [
    {
     "data": {
      "text/html": [
       "<style type=\"text/css\">\n",
       "</style>\n",
       "<table id=\"T_55952\">\n",
       "  <thead>\n",
       "    <tr>\n",
       "      <th class=\"blank level0\" >&nbsp;</th>\n",
       "      <th id=\"T_55952_level0_col0\" class=\"col_heading level0 col0\" >STRINGS</th>\n",
       "      <th id=\"T_55952_level0_col1\" class=\"col_heading level0 col1\" >INTS</th>\n",
       "      <th id=\"T_55952_level0_col2\" class=\"col_heading level0 col2\" >FLOATS</th>\n",
       "    </tr>\n",
       "  </thead>\n",
       "  <tbody>\n",
       "    <tr>\n",
       "      <th id=\"T_55952_level0_row0\" class=\"row_heading level0 row0\" >row 1</th>\n",
       "      <td id=\"T_55952_row0_col0\" class=\"data row0 col0\" >Adam</td>\n",
       "      <td id=\"T_55952_row0_col1\" class=\"data row0 col1\" >1</td>\n",
       "      <td id=\"T_55952_row0_col2\" class=\"data row0 col2\" >1,123</td>\n",
       "    </tr>\n",
       "    <tr>\n",
       "      <th id=\"T_55952_level0_row1\" class=\"row_heading level0 row1\" >row 2</th>\n",
       "      <td id=\"T_55952_row1_col0\" class=\"data row1 col0\" >Mike</td>\n",
       "      <td id=\"T_55952_row1_col1\" class=\"data row1 col1\" >3</td>\n",
       "      <td id=\"T_55952_row1_col2\" class=\"data row1 col2\" >1.000,230</td>\n",
       "    </tr>\n",
       "  </tbody>\n",
       "</table>\n"
      ],
      "text/plain": [
       "<pandas.io.formats.style.Styler at 0x10d3975c0>"
      ]
     },
     "execution_count": 1,
     "metadata": {},
     "output_type": "execute_result"
    }
   ],
   "source": [
    "import pandas as pd\n",
    "\n",
    "df = pd.DataFrame(\n",
    "    {\n",
    "        \"strings\": [\"Adam\", \"Mike\"],\n",
    "        \"ints\": [1, 3],\n",
    "        \"floats\": [1.123, 1000.23],\n",
    "    }\n",
    ")\n",
    "\n",
    "(\n",
    "    df.style.format(precision=3, thousands=\".\", decimal=\",\")\n",
    "    .format_index(lambda x: str(x).upper(), axis=1)\n",
    "    .relabel_index([\"row 1\", \"row 2\"], axis=0)\n",
    ")"
   ]
  },
  {
   "cell_type": "markdown",
   "id": "20e353b7",
   "metadata": {},
   "source": [
    "## Colors and stderr\n"
   ]
  },
  {
   "cell_type": "code",
   "execution_count": 2,
   "id": "4168ee80",
   "metadata": {},
   "outputs": [
    {
     "name": "stderr",
     "output_type": "stream",
     "text": [
      "\u001b[32m2025-05-19 17:34:52.769\u001b[0m | \u001b[34m\u001b[1mDEBUG   \u001b[0m | \u001b[36m__main__\u001b[0m:\u001b[36m<module>\u001b[0m:\u001b[36m3\u001b[0m - \u001b[34m\u001b[1mThat's it, beautiful and simple logging!\u001b[0m\n"
     ]
    }
   ],
   "source": [
    "from loguru import logger\n",
    "\n",
    "logger.debug(\"That's it, beautiful and simple logging!\")"
   ]
  },
  {
   "cell_type": "code",
   "execution_count": 4,
   "id": "deeb72c1",
   "metadata": {},
   "outputs": [
    {
     "name": "stdout",
     "output_type": "stream",
     "text": [
      "\u001b[30m30\u001b[0m\n",
      "\u001b[31m31\u001b[0m\n",
      "\u001b[32m32\u001b[0m\n",
      "\u001b[33m33\u001b[0m\n",
      "\u001b[34m34\u001b[0m\n",
      "\u001b[35m35\u001b[0m\n",
      "\u001b[36m36\u001b[0m\n",
      "\u001b[97m37\u001b[0m\n",
      "\n",
      "\u001b[40m\u001b[30m40\u001b[0m\n",
      "\u001b[41m\u001b[30m41\u001b[0m\n",
      "\u001b[42m\u001b[30m42\u001b[0m\n",
      "\u001b[43m\u001b[30m43\u001b[0m\n",
      "\u001b[44m\u001b[30m44\u001b[0m\n",
      "\u001b[45m\u001b[30m45\u001b[0m\n",
      "\u001b[46m\u001b[30m46\u001b[0m\n",
      "\u001b[107m\u001b[30m47\u001b[0m\n",
      "\n",
      "\u001b[1m1\u001b[0m\n",
      "\u001b[2m2\u001b[0m\n",
      "\u001b[4m4\u001b[0m\n",
      "\u001b[8m8\u001b[0m\n",
      "\u001b[9m9\u001b[0m\n"
     ]
    }
   ],
   "source": [
    "from termcolor import colored\n",
    "\n",
    "body = f\"\"\"\n",
    "{colored(\"30\", \"black\")}\n",
    "{colored(\"31\", \"red\")}\n",
    "{colored(\"32\", \"green\")}\n",
    "{colored(\"33\", \"yellow\")}\n",
    "{colored(\"34\", \"blue\")}\n",
    "{colored(\"35\", \"magenta\")}\n",
    "{colored(\"36\", \"cyan\")}\n",
    "{colored(\"37\", \"white\")}\n",
    "\n",
    "{colored(\"40\", \"black\", \"on_black\")}\n",
    "{colored(\"41\", \"black\", \"on_red\")}\n",
    "{colored(\"42\", \"black\", \"on_green\")}\n",
    "{colored(\"43\", \"black\", \"on_yellow\")}\n",
    "{colored(\"44\", \"black\", \"on_blue\")}\n",
    "{colored(\"45\", \"black\", \"on_magenta\")}\n",
    "{colored(\"46\", \"black\", \"on_cyan\")}\n",
    "{colored(\"47\", \"black\", \"on_white\")}\n",
    "\n",
    "{colored(\"1\", attrs=[\"bold\"])}\n",
    "{colored(\"2\", attrs=[\"dark\"])}\n",
    "{colored(\"4\", attrs=[\"underline\"])}\n",
    "{colored(\"8\", attrs=[\"concealed\"])}\n",
    "{colored(\"9\", attrs=[\"strike\"])}\n",
    "\"\"\".strip()\n",
    "\n",
    "print(body)"
   ]
  }
 ],
 "metadata": {
  "kernelspec": {
   "display_name": ".venv",
   "language": "python",
   "name": "python3"
  },
  "language_info": {
   "codemirror_mode": {
    "name": "ipython",
    "version": 3
   },
   "file_extension": ".py",
   "mimetype": "text/x-python",
   "name": "python",
   "nbconvert_exporter": "python",
   "pygments_lexer": "ipython3",
   "version": "3.12.7"
  }
 },
 "nbformat": 4,
 "nbformat_minor": 5
}
